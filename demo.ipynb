{
 "cells": [
  {
   "cell_type": "code",
   "execution_count": null,
   "id": "8490ecdc",
   "metadata": {},
   "outputs": [
    {
     "name": "stdout",
     "output_type": "stream",
     "text": [
      "Unique labels in masks: 244\n",
      "Image shape: (183, 464, 3), masks shape: (183, 464), dict length: 243\n"
     ]
    }
   ],
   "source": [
    "import cv2\n",
    "import numpy as np\n",
    "import json\n",
    "\n",
    "image_path = 'data/ShanghaiTech/part_A//train_data/images/IMG_240.jpg'\n",
    "masks_path = 'data/ShanghaiTech/part_A/train_data/masks/IMG_240.npy'\n",
    "dict_path = 'data/ShanghaiTech/part_A/train_data/dict/IMG_240.json'\n",
    "\n",
    "image = cv2.imread(image_path)\n",
    "masks = np.load(masks_path)\n",
    "with open(dict_path, 'r') as f:\n",
    "    dict_data = json.load(f)\n",
    "\n",
    "unique_labels = np.unique(masks)\n",
    "print(f'Unique labels in masks: {len(unique_labels)}')\n",
    "\n",
    "print(f'Image shape: {image.shape}, masks shape: {masks.shape}, dict length: {len(dict_data)}')\n"
   ]
  }
 ],
 "metadata": {
  "kernelspec": {
   "display_name": "PET_cuda12",
   "language": "python",
   "name": "python3"
  },
  "language_info": {
   "codemirror_mode": {
    "name": "ipython",
    "version": 3
   },
   "file_extension": ".py",
   "mimetype": "text/x-python",
   "name": "python",
   "nbconvert_exporter": "python",
   "pygments_lexer": "ipython3",
   "version": "3.8.20"
  }
 },
 "nbformat": 4,
 "nbformat_minor": 5
}
